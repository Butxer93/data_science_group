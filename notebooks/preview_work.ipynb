{
 "cells": [
  {
   "cell_type": "code",
   "execution_count": 3,
   "id": "8e0cd591",
   "metadata": {},
   "outputs": [],
   "source": [
    "from fastapi import FastAPI, HTTPException, Request, UploadFile, File\n",
    "from fastapi.middleware.cors import CORSMiddleware\n",
    "from pathlib import Path\n",
    "import pandas as pd, io, json\n",
    "\n",
    "import pandas as pd, numpy as np\n",
    "from sklearn.preprocessing import OneHotEncoder, StandardScaler\n",
    "from sklearn.compose import ColumnTransformer\n",
    "from sklearn.pipeline import Pipeline\n",
    "\n",
    "from pathlib import Path\n",
    "import os, joblib\n",
    "\n"
   ]
  },
  {
   "cell_type": "code",
   "execution_count": null,
   "id": "52e79b80",
   "metadata": {},
   "outputs": [],
   "source": [
    "DATA_DIR = Path().parent / \"data\"\n",
    "\n",
    "DATA_DIR\n",
    "\n",
    "def load_csv(name: str) -> pd.DataFrame:\n",
    "    p = DATA_DIR / name\n",
    "    return pd.read_csv(p) if p.exists() else pd.DataFrame()\n",
    "\n",
    "def get_vehicle(vehicle_id: str) -> dict:\n",
    "    vdf = load_csv(\"vehicles.csv\")\n",
    "    row = vdf[vdf[\"vehicle_id\"] == vehicle_id]\n",
    "    if row.empty:\n",
    "        raise HTTPException(404, \"vehicle not found\")\n",
    "    return row.iloc[0].to_dict()\n",
    "\n",
    "def co2_stop_kg(vehicle: dict, liters: float) -> float:\n",
    "    ef = float(vehicle.get(\"emissions_factor_g_per_l\", 0.0))\n",
    "    return liters * ef / 1000.0\n",
    "\n",
    "\n",
    "\n"
   ]
  }
 ],
 "metadata": {
  "kernelspec": {
   "display_name": "desafio-r3",
   "language": "python",
   "name": "python3"
  },
  "language_info": {
   "codemirror_mode": {
    "name": "ipython",
    "version": 3
   },
   "file_extension": ".py",
   "mimetype": "text/x-python",
   "name": "python",
   "nbconvert_exporter": "python",
   "pygments_lexer": "ipython3",
   "version": "3.12.9"
  }
 },
 "nbformat": 4,
 "nbformat_minor": 5
}
