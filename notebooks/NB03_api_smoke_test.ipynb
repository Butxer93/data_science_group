{
 "cells": [
  {
   "cell_type": "markdown",
   "metadata": {},
   "source": [
    "# 03 · API Smoke Test (Desafio_R3)\n",
    "\n",
    "Este notebook hace un **smoke test** de la API FastAPI sin clases del proyecto **Desafio_R3**. \n",
    " \n",
    "## Instrucciones previas \n",
    "1. En una **terminal aparte**, levanta el servidor con `uv` desde la raíz del repo: \n",
    "   ```bash \n",
    "   uv sync \n",
    "   uv run fastapi dev app/api.py \n",
    "   ``` \n",
    "2. Vuelve aquí y ejecuta las celdas para probar **/health**, entrenar el modelo **/ml/train_ranker** y pedir ranking **/ml/rank_refuel_by_route**. \n",
    " \n",
    "Si ya tienes el servidor arrancado en otro puerto u host, ajusta `API_BASE` en la siguiente celda."
   ]
  },
  {
   "cell_type": "code",
   "execution_count": 8,
   "id": "f9b647cc",
   "metadata": {
    "tags": []
   },
   "outputs": [
    {
     "data": {
      "text/plain": [
       "'http://localhost:8000'"
      ]
     },
     "execution_count": 8,
     "metadata": {},
     "output_type": "execute_result"
    }
   ],
   "source": [
    "import os, time, json, textwrap \n",
    "import requests \n",
    "from pprint import pprint \n",
    " \n",
    "# Configura la URL base de tu API (ajusta si usas otro host/puerto) \n",
    "API_BASE = os.getenv(\"API_BASE\", \"http://localhost:8000\") \n",
    "API_BASE"
   ]
  },
  {
   "cell_type": "markdown",
   "metadata": {},
   "source": [
    "## Helper: esperar a que /health esté OK"
   ]
  },
  {
   "cell_type": "code",
   "execution_count": 9,
   "metadata": {
    "tags": []
   },
   "outputs": [
    {
     "name": "stdout",
     "output_type": "stream",
     "text": [
      "{'model_loaded': True, 'ok': True}\n"
     ]
    }
   ],
   "source": [
    "def wait_for_health(timeout=30): \n",
    "    \"\"\"Espera a que /health responda ok o agota timeout (s).\"\"\" \n",
    "    url = f\"{API_BASE}/health\" \n",
    "    start = time.time() \n",
    "    last_err = None \n",
    "    while time.time() - start < timeout: \n",
    "        try: \n",
    "            r = requests.get(url, timeout=5) \n",
    "            if r.ok: \n",
    "                return r.json() \n",
    "        except Exception as e: \n",
    "            last_err = e \n",
    "        time.sleep(1) \n",
    "    raise RuntimeError(f\"API no disponible en {url}. Último error: {last_err}\") \n",
    " \n",
    "health = wait_for_health(15) \n",
    "pprint(health)"
   ]
  },
  {
   "cell_type": "markdown",
   "metadata": {},
   "source": [
    "## 1) /route/plan — polilínea stub \n",
    "Probamos la generación de una polilínea entre Madrid y Barcelona (ajusta coordenadas si quieres)."
   ]
  },
  {
   "cell_type": "code",
   "execution_count": 5,
   "metadata": {
    "tags": []
   },
   "outputs": [
    {
     "name": "stdout",
     "output_type": "stream",
     "text": [
      "200\n",
      "# puntos en poly: 31\n"
     ]
    },
    {
     "data": {
      "text/plain": [
       "['points', 'distances_km', 'avoid_tolls']"
      ]
     },
     "execution_count": 5,
     "metadata": {},
     "output_type": "execute_result"
    }
   ],
   "source": [
    "payload_route = { \n",
    "    \"route\": { \n",
    "        \"route_id\": \"R001\", \n",
    "        \"vehicle_id\": \"V001\", \n",
    "        \"start_lat\": 40.4168, \"start_lon\": -3.7038, \n",
    "        \"end_lat\": 41.3874,   \"end_lon\": 2.1686, \n",
    "        \"avoid_tolls\": True \n",
    "    } \n",
    "} \n",
    "r = requests.post(f\"{API_BASE}/route/plan\", json=payload_route, timeout=30) \n",
    "print(r.status_code) \n",
    "data_route = r.json() \n",
    "print(\"# puntos en poly:\", len(data_route.get(\"points\", []))) \n",
    "list(data_route.keys())"
   ]
  },
  {
   "cell_type": "markdown",
   "metadata": {},
   "source": [
    "## 2) /ml/train_ranker — entrenamiento sintético \n",
    "Entrena el pipeline **LTR (LightGBM)** o **fallback RF** si LGBM no está disponible en tu entorno. \n",
    "El modelo se guarda en `models/rank_refuel_pipe.joblib` y la API lo carga en inferencia."
   ]
  },
  {
   "cell_type": "code",
   "execution_count": 11,
   "metadata": {
    "tags": []
   },
   "outputs": [
    {
     "name": "stdout",
     "output_type": "stream",
     "text": [
      "200\n",
      "{'meta': {'used': 'lightgbm'}, 'n_samples': 1000, 'ok': True}\n"
     ]
    }
   ],
   "source": [
    "r = requests.post(f\"{API_BASE}/ml/train_ranker\", params={\"synthetic\": True}, timeout=120) \n",
    "print(r.status_code) \n",
    "train_meta = r.json() \n",
    "pprint(train_meta)"
   ]
  },
  {
   "cell_type": "markdown",
   "metadata": {},
   "source": [
    "## 3) /ml/rank_refuel_by_route — ranking de estaciones por ruta \n",
    "Solicitamos un ranking para la misma ruta. Puedes cambiar `priority` a `cost`, `balanced` o `sustainability`."
   ]
  },
  {
   "cell_type": "code",
   "execution_count": 12,
   "metadata": {
    "tags": []
   },
   "outputs": [
    {
     "name": "stdout",
     "output_type": "stream",
     "text": [
      "200\n",
      "used_model: True\n",
      "policy: balanced\n",
      "# estaciones devueltas: 1\n",
      "Top 3 (resumen):\n",
      "#1 Repsol price: 1.62 detour_km: 8.92 wait: 5 score: -9.67\n"
     ]
    }
   ],
   "source": [
    "payload_rank = { \n",
    "    \"route\": payload_route[\"route\"], \n",
    "    \"liters_needed\": 45, \n",
    "    \"price_area_mean\": 1.62, \n",
    "    \"priority\": \"balanced\" \n",
    "} \n",
    "r = requests.post(f\"{API_BASE}/ml/rank_refuel_by_route\", json=payload_rank, timeout=60) \n",
    "print(r.status_code) \n",
    "rank_data = r.json() \n",
    "print(\"used_model:\", rank_data.get(\"used_model\")) \n",
    "print(\"policy:\", rank_data.get(\"policy\")) \n",
    "print(\"# estaciones devueltas:\", len(rank_data.get(\"stations\", []))) \n",
    "print(\"Top 3 (resumen):\") \n",
    "for i, st in enumerate(rank_data.get(\"stations\", [])[:3], 1): \n",
    "    print(f\"#{i}\", st.get(\"brand\"), \n",
    "          \"price:\", st.get(\"price_per_liter\"), \n",
    "          \"detour_km:\", round(st.get(\"detour_km\", 0.0), 2), \n",
    "          \"wait:\", st.get(\"wait_min\"), \n",
    "          \"score:\", round(st.get(\"score\", 0.0), 2))"
   ]
  },
  {
   "cell_type": "markdown",
   "metadata": {},
   "source": [
    "## 4) Cambiar política por ENV (opcional) \n",
    "Puedes ajustar pesos con variables de entorno del servidor (y reiniciarlo): \n",
    "```powershell \n",
    "setx FLEET_W_CO2 0.8 \n",
    "setx FLEET_SHADOW_CO2 0.25 \n",
    "``` \n",
    "En Linux/macOS: `export FLEET_W_CO2=0.8` y `export FLEET_SHADOW_CO2=0.25` antes de lanzar el servidor."
   ]
  },
  {
   "cell_type": "markdown",
   "metadata": {},
   "source": [
    "## 5) (Opcional) Ingesta de puntos de carga EV \n",
    "### /ingest/ev/openchargemap (JSON) \n",
    "Sube un JSON exportado de su API y se normaliza como `data/ev_stations.csv`."
   ]
  },
  {
   "cell_type": "code",
   "execution_count": 13,
   "metadata": {
    "tags": []
   },
   "outputs": [
    {
     "name": "stdout",
     "output_type": "stream",
     "text": [
      "200\n",
      "{'ok': True, 'rows': 1}\n"
     ]
    }
   ],
   "source": [
    "# Ejemplo mínimo de payload tipo OCM (simulado). \n",
    "fake_ocm = [{ \n",
    "  \"ID\": 123, \n",
    "  \"AddressInfo\": {\"Title\": \"OCM Demo\", \"Latitude\": 40.5, \"Longitude\": -3.7}, \n",
    "  \"OperatorInfo\": {\"Title\": \"DemoNet\"}, \n",
    "  \"Connections\": [ \n",
    "     {\"ConnectionType\": {\"Title\": \"CCS2\"}, \"PowerKW\": 50}, \n",
    "     {\"ConnectionType\": {\"Title\": \"Type2\"}, \"PowerKW\": 22} \n",
    "  ] \n",
    "}] \n",
    " \n",
    "files = {\"file\": (\"ocm.json\", json.dumps(fake_ocm), \"application/json\")} \n",
    "r = requests.post(f\"{API_BASE}/ingest/ev/openchargemap\", files=files, timeout=60) \n",
    "print(r.status_code) \n",
    "pprint(r.json())"
   ]
  }
 ],
 "metadata": {
  "kernelspec": {
   "display_name": "desafio-r3",
   "language": "python",
   "name": "python3"
  },
  "language_info": {
   "codemirror_mode": {
    "name": "ipython",
    "version": 3
   },
   "file_extension": ".py",
   "mimetype": "text/x-python",
   "name": "python",
   "nbconvert_exporter": "python",
   "pygments_lexer": "ipython3",
   "version": "3.12.9"
  }
 },
 "nbformat": 4,
 "nbformat_minor": 5
}
