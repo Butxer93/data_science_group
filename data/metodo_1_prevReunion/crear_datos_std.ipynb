{
 "cells": [
  {
   "cell_type": "markdown",
   "id": "8c5e5654",
   "metadata": {},
   "source": [
    "# Importar librerías"
   ]
  },
  {
   "cell_type": "code",
   "execution_count": 4,
   "id": "d3e4aa59",
   "metadata": {},
   "outputs": [],
   "source": [
    "\"\"\"\n",
    "Generador de BBDD y datos sintéticos para repostajes de autobuses y camiones\n",
    "Output: CSVs (fuel_prices_monthly.csv, electricity_prices_monthly.csv, vehicle_catalog.csv, refuel_events.csv)\n",
    "Requiere: pandas, numpy\n",
    "\"\"\"\n",
    "\n",
    "import pandas as pd\n",
    "import numpy as np\n",
    "from pathlib import Path\n",
    "from datetime import datetime, timedelta\n",
    "import random\n",
    "\n",
    "RND = np.random.RandomState(42)\n",
    "\n",
    "OUT_DIR = Path(\"output_data\")\n",
    "OUT_DIR.mkdir(exist_ok=True)"
   ]
  },
  {
   "cell_type": "markdown",
   "id": "f753d1a2",
   "metadata": {},
   "source": [
    "# Agrupar series diarias a mensuales"
   ]
  },
  {
   "cell_type": "code",
   "execution_count": 5,
   "id": "0cec8544",
   "metadata": {},
   "outputs": [],
   "source": [
    "def daily_to_monthly(df, date_col, value_cols, agg_funcs=None):\n",
    "    \"\"\"\n",
    "    df: dataframe con columna fecha (datetime)\n",
    "    value_cols: list of columns with numeric values to aggregate\n",
    "    agg_funcs: dict col->agg function, default min,mean,max\n",
    "    \"\"\"\n",
    "    df = df.copy()\n",
    "    df['year'] = df[date_col].dt.year\n",
    "    df['month'] = df[date_col].dt.month\n",
    "    if agg_funcs is None:\n",
    "        agg_funcs = {c: ['min','mean','max'] for c in value_cols}\n",
    "    monthly = df.groupby(['year','month']).agg(agg_funcs)\n",
    "    # flatten columns\n",
    "    monthly.columns = ['_'.join([c, f]) for c, f in monthly.columns]\n",
    "    monthly = monthly.reset_index()\n",
    "    return monthly"
   ]
  },
  {
   "cell_type": "markdown",
   "id": "5825f89d",
   "metadata": {},
   "source": [
    "# Lectura csv"
   ]
  },
  {
   "cell_type": "code",
   "execution_count": 6,
   "id": "8b558bae",
   "metadata": {},
   "outputs": [],
   "source": [
    "def load_cnmc_daily_prices(csv_path):\n",
    "    \"\"\"\n",
    "    Espera CSV con columnas: date (YYYY-MM-DD), province, product (e.g. 'Gasóleo A'), price_eur_per_l\n",
    "    (Adapta según el CSV oficial que descargues de data.cnmc.es)\n",
    "    \"\"\"\n",
    "    df = pd.read_csv(csv_path, parse_dates=['date'])\n",
    "    # Normalizar nombres de columnas si hace falta\n",
    "    return df\n",
    "\n",
    "def build_monthly_fuel_prices_from_daily(df_daily):\n",
    "    # df_daily should have: date, product, price_eur_per_l, province (optional)\n",
    "    monthly = df_daily.rename(columns={'date':'fecha','price_eur_per_l':'price'}).copy()\n",
    "    monthly['fecha'] = pd.to_datetime(monthly['fecha'])\n",
    "    out = monthly.groupby([monthly['fecha'].dt.year, monthly['fecha'].dt.month, 'product'])['price'].agg(['min','mean','max']).reset_index()\n",
    "    out.columns = ['year','month','product','min_eur_per_l','mean_eur_per_l','max_eur_per_l']\n",
    "    return out"
   ]
  },
  {
   "cell_type": "markdown",
   "id": "82d66f7d",
   "metadata": {},
   "source": [
    "# Generador vehículos"
   ]
  },
  {
   "cell_type": "code",
   "execution_count": 7,
   "id": "20bf4cf7",
   "metadata": {},
   "outputs": [],
   "source": [
    "def generate_vehicle_catalog(n_trucks=200, n_buses=100, frac_electric_buses=0.15):\n",
    "    rows = []\n",
    "    vid = 1\n",
    "    # Trucks (diesel / LNG mixture)\n",
    "    for i in range(n_trucks):\n",
    "        tank = int(RND.choice([300,400,500,600,800,1000], p=[0.05,0.1,0.25,0.25,0.2,0.15]))\n",
    "        cons = float(RND.normal(loc=30, scale=5))  # L/100km\n",
    "        rows.append({\n",
    "            'vehicle_id': f'T{vid:05d}',\n",
    "            'vehicle_type':'truck',\n",
    "            'fuel_type':'diesel',\n",
    "            'tank_capacity_l': tank,\n",
    "            'battery_capacity_kwh': np.nan,\n",
    "            'consumption_l_per_100km': round(max(12, cons),2),\n",
    "            'consumption_kwh_per_km': np.nan\n",
    "        })\n",
    "        vid += 1\n",
    "    # Buses: mix diesel / electric\n",
    "    n_elect = int(n_buses * frac_electric_buses)\n",
    "    for i in range(n_buses):\n",
    "        if i < n_elect:\n",
    "            # electric bus\n",
    "            batt = int(RND.choice([200,250,300,350,400], p=[0.1,0.25,0.3,0.2,0.15]))\n",
    "            cons_kwh_per_km = float(RND.normal(loc=1.5, scale=0.2))\n",
    "            rows.append({\n",
    "                'vehicle_id': f'B{vid:05d}',\n",
    "                'vehicle_type':'city_bus',\n",
    "                'fuel_type':'electric',\n",
    "                'tank_capacity_l': np.nan,\n",
    "                'battery_capacity_kwh': batt,\n",
    "                'consumption_l_per_100km': np.nan,\n",
    "                'consumption_kwh_per_km': round(max(0.8, cons_kwh_per_km),3)\n",
    "            })\n",
    "        else:\n",
    "            # diesel bus\n",
    "            tank = int(RND.choice([200,250,300,350,400,500], p=[0.05,0.2,0.25,0.2,0.15,0.15]))\n",
    "            cons = float(RND.normal(loc=40, scale=8))  # L/100km\n",
    "            rows.append({\n",
    "                'vehicle_id': f'B{vid:05d}',\n",
    "                'vehicle_type':'city_bus',\n",
    "                'fuel_type':'diesel',\n",
    "                'tank_capacity_l': tank,\n",
    "                'battery_capacity_kwh': np.nan,\n",
    "                'consumption_l_per_100km': round(max(15, cons),2),\n",
    "                'consumption_kwh_per_km': np.nan\n",
    "            })\n",
    "        vid += 1\n",
    "    df = pd.DataFrame(rows)\n",
    "    df.to_csv(OUT_DIR/\"vehicle_catalog.csv\", index=False)\n",
    "    return df"
   ]
  },
  {
   "cell_type": "markdown",
   "id": "4420cee2",
   "metadata": {},
   "source": [
    "# Generador sintético evento repostaje"
   ]
  },
  {
   "cell_type": "code",
   "execution_count": null,
   "id": "abc44145",
   "metadata": {},
   "outputs": [],
   "source": [
    "def simulate_refuels(vehicle_catalog, start_date='2018-01-01', end_date=None, avg_refuels_per_month=4):\n",
    "    if end_date is None:\n",
    "        end_date = datetime.now().date()\n",
    "    start = pd.to_datetime(start_date).date()\n",
    "    end = pd.to_datetime(end_date).date()\n",
    "    days = (end - start).days\n",
    "    events = []\n",
    "    odo_base = 100000 # odometro inicial aproximado\n",
    "    for _, v in vehicle_catalog.iterrows():\n",
    "        # decide number of refuels for this vehicle in period\n",
    "        months = max(1, days/30.0)\n",
    "        n_events = int(max(1, RND.poisson(lam=avg_refuels_per_month*months/12.0))) if v.vehicle_type=='truck' else int(max(1, RND.poisson(lam=avg_refuels_per_month*months/12.0)))\n",
    "        last_odo = odo_base + RND.randint(0,200000)\n",
    "        for e in range(n_events):\n",
    "            # random date in interval (uniform)\n",
    "            dt = start + timedelta(days=int(RND.randint(0,days)))\n",
    "            if v.fuel_type == 'diesel':\n",
    "                # liters: if 'full' strategy fill 60-95% of tank; else top-up (10-50%)\n",
    "                fill_type = RND.choice(['full','topup'], p=[0.6,0.4])\n",
    "                if fill_type=='full':\n",
    "                    liters = float(v.tank_capacity_l) * RND.uniform(0.6,0.95)\n",
    "                else:\n",
    "                    liters = float(v.tank_capacity_l) * RND.uniform(0.1,0.5)\n",
    "                km_since_last = liters / (v.consumption_l_per_100km/100.0) \\\n",
    "                    if not np.isnan(v.consumption_l_per_100km) else int(RND.normal(300,100))\n",
    "                kwh = np.nan\n",
    "            else:\n",
    "                # electric\n",
    "                batt = v.battery_capacity_kwh\n",
    "                # charge can be partial: 30-90% of battery\n",
    "                soc_gain = RND.uniform(0.3,0.9)\n",
    "                kwh = batt * soc_gain\n",
    "                liters = np.nan\n",
    "                km_since_last = kwh / max(0.8, v.consumption_kwh_per_km)\n",
    "            # price placeholders (to be joined with monthly price tables)\n",
    "            price_per_l = np.nan\n",
    "            price_per_kwh = np.nan\n",
    "            cost = np.nan\n",
    "            last_odo += max(50, int(km_since_last))\n",
    "            events.append({\n",
    "                'vehicle_id': v.vehicle_id,\n",
    "                'datetime': pd.to_datetime(dt),\n",
    "                'location_province': RND.choice(['Madrid','Barcelona','Valencia','Sevilla','A Coruña','Zaragoza']),\n",
    "                'liters': round(liters,2) if not np.isnan(liters) else np.nan,\n",
    "                'kwh': round(kwh,2) if not np.isnan(kwh) else np.nan,\n",
    "                'price_per_l': price_per_l,\n",
    "                'price_per_kwh': price_per_kwh,\n",
    "                'cost_eur': cost,\n",
    "                'km_since_last': int(km_since_last),\n",
    "                'odo_km': last_odo\n",
    "            })\n",
    "    df_events = pd.DataFrame(events).sort_values('datetime').reset_index(drop=True)\n",
    "    df_events.to_csv(OUT_DIR/\"refuel_events_raw.csv\", index=False)\n",
    "    return df_events"
   ]
  },
  {
   "cell_type": "markdown",
   "id": "fffb87fa",
   "metadata": {},
   "source": [
    "# Join con precios mensuales reales (en caso de tenerlos)"
   ]
  },
  {
   "cell_type": "code",
   "execution_count": 9,
   "id": "e272ae77",
   "metadata": {},
   "outputs": [],
   "source": [
    "def price_join_and_calc_cost(refuels_df, fuel_price_monthly_df, elec_price_monthly_df):\n",
    "    df = refuels_df.copy()\n",
    "    df['year'] = df['datetime'].dt.year\n",
    "    df['month'] = df['datetime'].dt.month\n",
    "    # join fuel prices\n",
    "    # fuel_price_monthly_df must have columns year,month,product,mean_eur_per_l\n",
    "    # map product by vehicle fuel_type (assumption simple)\n",
    "    df = df.merge(fuel_price_monthly_df.rename(columns={'product':'product','mean_eur_per_l':'mean_eur_per_l'}),\n",
    "                  how='left', left_on=['year','month'], right_on=['year','month'])\n",
    "    # If kwh charges, join electricity price\n",
    "    df = df.merge(elec_price_monthly_df[['year','month','mean_eur_per_kwh']].drop_duplicates(), how='left', on=['year','month'])\n",
    "    # compute costs\n",
    "    df['cost_eur'] = df['liters'] * df['mean_eur_per_l'].fillna(0) + df['kwh'] * df['mean_eur_per_kwh'].fillna(0)\n",
    "    # fill price_per_l / price_per_kwh from month\n",
    "    df['price_per_l'] = df['mean_eur_per_l']\n",
    "    df['price_per_kwh'] = df['mean_eur_per_kwh']\n",
    "    df.to_csv(OUT_DIR/\"refuel_events_with_prices.csv\", index=False)\n",
    "    return df"
   ]
  },
  {
   "cell_type": "markdown",
   "id": "141a0b5e",
   "metadata": {},
   "source": [
    "# Ejemplo de uso"
   ]
  },
  {
   "cell_type": "code",
   "execution_count": 10,
   "id": "37e3c62b",
   "metadata": {},
   "outputs": [
    {
     "name": "stdout",
     "output_type": "stream",
     "text": [
      "Vehículos: 420 Eventos simulados: 12553\n"
     ]
    }
   ],
   "source": [
    "if __name__ == \"__main__\":\n",
    "    vc = generate_vehicle_catalog(n_trucks=300, n_buses=120, frac_electric_buses=0.2)\n",
    "    refuels = simulate_refuels(vc, start_date='2016-01-01', end_date='2025-09-20', avg_refuels_per_month=3)\n",
    "    print(\"Vehículos:\", len(vc), \"Eventos simulados:\", len(refuels))\n",
    "    # En caso de que tengas CSVs reales:\n",
    "    # fuel_daily_df = load_cnmc_daily_prices(\"cnmc_daily.csv\")\n",
    "    # fuel_monthly = build_monthly_fuel_prices_from_daily(fuel_daily_df)\n",
    "    # elec_monthly = ... # cargar / construir con formato year,month,mean_eur_per_kwh\n",
    "    # joined = price_join_and_calc_cost(refuels, fuel_monthly, elec_monthly)"
   ]
  }
 ],
 "metadata": {
  "kernelspec": {
   "display_name": "Python 3",
   "language": "python",
   "name": "python3"
  },
  "language_info": {
   "codemirror_mode": {
    "name": "ipython",
    "version": 3
   },
   "file_extension": ".py",
   "mimetype": "text/x-python",
   "name": "python",
   "nbconvert_exporter": "python",
   "pygments_lexer": "ipython3",
   "version": "3.13.0"
  }
 },
 "nbformat": 4,
 "nbformat_minor": 5
}
